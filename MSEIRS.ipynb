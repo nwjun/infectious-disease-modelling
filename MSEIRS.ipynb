{
 "cells": [
  {
   "cell_type": "code",
   "execution_count": 1,
   "id": "e0485fa7",
   "metadata": {},
   "outputs": [
    {
     "name": "stderr",
     "output_type": "stream",
     "text": [
      "C:\\Users\\Janice\\anaconda3\\lib\\site-packages\\numpy\\_distributor_init.py:30: UserWarning: loaded more than 1 DLL from .libs:\n",
      "C:\\Users\\Janice\\anaconda3\\lib\\site-packages\\numpy\\.libs\\libopenblas.EL2C6PLE4ZYW3ECEVIV3OXXGRN2NRFM2.gfortran-win_amd64.dll\n",
      "C:\\Users\\Janice\\anaconda3\\lib\\site-packages\\numpy\\.libs\\libopenblas64__v0.3.21-gcc_10_3_0.dll\n",
      "  warnings.warn(\"loaded more than 1 DLL from .libs:\"\n"
     ]
    }
   ],
   "source": [
    "import numpy as np\n",
    "import pandas as pd\n",
    "import matplotlib.pyplot as plt"
   ]
  },
  {
   "cell_type": "markdown",
   "id": "dd327b82",
   "metadata": {},
   "source": [
    "## MSEIRS Equations\n",
    "Reference: \n",
    "- https://www.freecodecamp.org/news/how-to-model-an-epidemic-with-r/ \n",
    "- https://repositorium.sdum.uminho.pt/bitstream/1822/60583/1/preprint.pdf"
   ]
  },
  {
   "cell_type": "markdown",
   "id": "af721f08",
   "metadata": {},
   "source": [
    "In our MSEIRS system, we make the below assumptions:\n",
    "1. The death rate and born rate are the same, which means the number of population will not change over time.\n",
    "2. Both passive maternally-derived immunity and temporary immunity weakened at the same rate"
   ]
  },
  {
   "cell_type": "code",
   "execution_count": 2,
   "id": "85fd51a7",
   "metadata": {},
   "outputs": [],
   "source": [
    "# define the SEIR function\n",
    "def MSEIRS_model(time, current_state, beta, sigma, gamma, delta, lam):\n",
    "    M, S, E, I, R = current_state\n",
    "    \n",
    "    N = M + S + E + I + R\n",
    "    # -weakend rate * infant with immunity + new born rate * new born with immunity prob\n",
    "    dM = -delta * M + lam * I * R / N\n",
    "    # - contact rate * contact probabilities \n",
    "    # + new born losing passive immunity rate \n",
    "    # + new born rate * new born without immunity prob\n",
    "    dS = -(beta * S * I) / N + delta * M + lam * I * (1 - R / N) + delta * R\n",
    "    dE = (beta * S * I) / N - sigma * E\n",
    "    # infectious rate - recovery rate - death rate\n",
    "    dI = sigma * E - gamma * I - lam * I\n",
    "    # recovery rate + immunity weakened rate\n",
    "    dR = gamma * I - delta * R\n",
    "    \n",
    "    return [dM, dS, dE, dI, dR]"
   ]
  },
  {
   "cell_type": "markdown",
   "id": "52f7a38a",
   "metadata": {},
   "source": [
    "## Initial Parameters\n",
    "beta = 0.5 : Transmission/Contact rate  \n",
    "sigma = 0.25 : Infectious rate  \n",
    "gamma = 0.2 : Recovery rate  \n",
    "delta = 0.1 : Immunity weakened rate  \n",
    "lambda = 0.05 : Birth/Death rate \n",
    "days = 365 : Number of days to simulate"
   ]
  },
  {
   "cell_type": "code",
   "execution_count": 3,
   "id": "2f6b7528",
   "metadata": {},
   "outputs": [],
   "source": [
    "# initialise parameters\n",
    "params = {\n",
    "    'delta': 0.1,\n",
    "    'beta': 0.5,\n",
    "    'sigma': 0.25,\n",
    "    'gamma': 0.2,\n",
    "    'lam': 0.05\n",
    "}\n",
    "\n",
    "times = np.arange(0, 366)"
   ]
  },
  {
   "cell_type": "markdown",
   "id": "d90f510c",
   "metadata": {},
   "source": [
    "## S - Susceptible, E - Exposed, I - Infectious, R - Recovered\n",
    "M = 0: The initial number of new born with maternal immunity is set to 0.  \n",
    "S = 999999: The initial number of susceptible individuals is set to 999,999.  \n",
    "E = 1: The initial number of exposed individuals is set to 1.  \n",
    "I = 0: The initial number of infectious individuals is set to 0.  \n",
    "R = 0: The initial number of recovered individuals is set to 0.  "
   ]
  },
  {
   "cell_type": "code",
   "execution_count": 4,
   "id": "47e8ffc9",
   "metadata": {},
   "outputs": [],
   "source": [
    "# initialise the initialise state of SEIR\n",
    "initial_state = [0, 999999, 1, 0, 0]"
   ]
  },
  {
   "cell_type": "markdown",
   "id": "dec67d16",
   "metadata": {},
   "source": [
    "## solve_ivp\n",
    "To solve equation with respect to time"
   ]
  },
  {
   "cell_type": "code",
   "execution_count": 5,
   "id": "740f7820",
   "metadata": {},
   "outputs": [],
   "source": [
    "from scipy.integrate import solve_ivp"
   ]
  },
  {
   "cell_type": "code",
   "execution_count": 6,
   "id": "6dacc998",
   "metadata": {},
   "outputs": [],
   "source": [
    "# Solve the SEIR model using solve_ivp\n",
    "solution = solve_ivp(lambda t, y: MSEIRS_model(t, y, **params), [times[0], times[-1]], initial_state, t_eval=times)"
   ]
  },
  {
   "cell_type": "markdown",
   "id": "90e9af1b",
   "metadata": {},
   "source": [
    "## Summary of model's statistics"
   ]
  },
  {
   "cell_type": "code",
   "execution_count": 7,
   "id": "113ac4bf",
   "metadata": {},
   "outputs": [
    {
     "name": "stdout",
     "output_type": "stream",
     "text": [
      "Summary of M :\n",
      "Mean: 9166.542410721022\n",
      "Minimum: 0.0\n",
      "Maximum: 252928.14100600407\n",
      "25th Percentile: 4351.727327386312\n",
      "50th Percentile (Median): 242534.7126586375\n",
      "75th Percentile: 242654.6535807967\n",
      "\n",
      "Summary of S :\n",
      "Mean: 665087.734951661\n",
      "Minimum: 477812.0188290194\n",
      "Maximum: 999999.0\n",
      "25th Percentile: 499977.3003099579\n",
      "50th Percentile (Median): 500095.4486719165\n",
      "75th Percentile: 985075.9256793732\n",
      "\n",
      "Summary of E :\n",
      "Mean: 84078.09298385859\n",
      "Minimum: 0.7639702705028147\n",
      "Maximum: 136110.24250252685\n",
      "25th Percentile: 6178.261875744779\n",
      "50th Percentile (Median): 121198.36750691898\n",
      "75th Percentile: 121355.47751375215\n",
      "\n",
      "Summary of I :\n",
      "Mean: 82774.67354481466\n",
      "Minimum: 0.0\n",
      "Maximum: 134300.56993531832\n",
      "25th Percentile: 4390.936402005011\n",
      "50th Percentile (Median): 121241.37300019339\n",
      "75th Percentile: 121375.40995049654\n",
      "\n",
      "Summary of R :\n",
      "Mean: 158892.95610894499\n",
      "Minimum: 0.0\n",
      "Maximum: 252928.14100600407\n",
      "25th Percentile: 4351.727327386312\n",
      "50th Percentile (Median): 242534.7126586375\n",
      "75th Percentile: 242654.6535807967\n",
      "\n"
     ]
    }
   ],
   "source": [
    "# Access the solution arrays\n",
    "M = solution.y[0]\n",
    "S = solution.y[1]\n",
    "E = solution.y[2]\n",
    "I = solution.y[3]\n",
    "R = solution.y[4]\n",
    "\n",
    "# Calculate summary statistics\n",
    "summary_M = np.mean(M), np.min(R), np.max(R), np.percentile(R, [25, 50, 75])\n",
    "summary_S = np.mean(S), np.min(S), np.max(S), np.percentile(S, [25, 50, 75])\n",
    "summary_E = np.mean(E), np.min(E), np.max(E), np.percentile(E, [25, 50, 75])\n",
    "summary_I = np.mean(I), np.min(I), np.max(I), np.percentile(I, [25, 50, 75])\n",
    "summary_R = np.mean(R), np.min(R), np.max(R), np.percentile(R, [25, 50, 75])\n",
    "\n",
    "list_summary = [summary_M, summary_S, summary_E, summary_I, summary_R]\n",
    "summary_names = ['M', 'S', 'E', 'I', 'R']\n",
    "\n",
    "for i in range(len(list_summary)):\n",
    "    print(\"Summary of\", summary_names[i], \":\")\n",
    "    print(\"Mean:\", list_summary[i][0])\n",
    "    print(\"Minimum:\", list_summary[i][1])\n",
    "    print(\"Maximum:\", list_summary[i][2])\n",
    "    print(\"25th Percentile:\", list_summary[i][3][0])\n",
    "    print(\"50th Percentile (Median):\", list_summary[i][3][1])\n",
    "    print(\"75th Percentile:\", list_summary[i][3][2])\n",
    "    print()\n"
   ]
  },
  {
   "cell_type": "code",
   "execution_count": 8,
   "id": "e17d46c5",
   "metadata": {},
   "outputs": [
    {
     "data": {
      "image/png": "[encoded data removed]",
      "text/plain": [
       "<Figure size 720x432 with 1 Axes>"
      ]
     },
     "metadata": {
      "needs_background": "light"
     },
     "output_type": "display_data"
    }
   ],
   "source": [
    "# Plotting the SEIR model\n",
    "plt.figure(figsize=(10, 6))\n",
    "plt.plot(times, M, label='Maternity immunity')\n",
    "plt.plot(times, S, label='Susceptible')\n",
    "plt.plot(times, E, label='Exposed')\n",
    "plt.plot(times, I, label='Infected')\n",
    "plt.plot(times, R, label='Recovered')\n",
    "plt.xlabel('Day')\n",
    "plt.ylabel('Population')\n",
    "plt.title('SEIR Model without Intervention')\n",
    "plt.legend()\n",
    "plt.grid(True)\n",
    "plt.show()"
   ]
  },
  {
   "cell_type": "markdown",
   "id": "c571699e",
   "metadata": {},
   "source": [
    "## Infection peak when there is no intervention taken"
   ]
  },
  {
   "cell_type": "code",
   "execution_count": 9,
   "id": "b8e79143",
   "metadata": {},
   "outputs": [
    {
     "name": "stdout",
     "output_type": "stream",
     "text": [
      "The number of infections peaked on day 140 with 136110 people.\n"
     ]
    }
   ],
   "source": [
    "# Create a dataframe from the solution arrays\n",
    "df_model = pd.DataFrame(\n",
    "    {\n",
    "        \"Time\": times,\n",
    "        \"Susceptible\": solution.y[0],\n",
    "        \"Exposed\": solution.y[1],\n",
    "        \"Infectious\": solution.y[2],\n",
    "        \"Recovered\": solution.y[3],\n",
    "    }\n",
    ")\n",
    "\n",
    "# Extract the Infectious column\n",
    "df_infections = df_model[\"Infectious\"]\n",
    "\n",
    "# Obtain the max number of people infected\n",
    "peak_infections = df_infections.max()\n",
    "\n",
    "# Obtain the n-day when the number of people infected is max\n",
    "peak_time = df_infections.idxmax()\n",
    "\n",
    "print(\n",
    "    \"The number of infections peaked on day\",\n",
    "    peak_time,\n",
    "    \"with\",\n",
    "    round(peak_infections),\n",
    "    \"people.\",\n",
    ")"
   ]
  }
 ],
 "metadata": {
  "kernelspec": {
   "display_name": "Python 3 (ipykernel)",
   "language": "python",
   "name": "python3"
  },
  "language_info": {
   "codemirror_mode": {
    "name": "ipython",
    "version": 3
   },
   "file_extension": ".py",
   "mimetype": "text/x-python",
   "name": "python",
   "nbconvert_exporter": "python",
   "pygments_lexer": "ipython3",
   "version": "3.9.7"
  }
 },
 "nbformat": 4,
 "nbformat_minor": 5
}
