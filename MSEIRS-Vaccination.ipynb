{
 "cells": [
  {
   "cell_type": "code",
   "execution_count": 12,
   "id": "e0485fa7",
   "metadata": {},
   "outputs": [],
   "source": [
    "import numpy as np\n",
    "import pandas as pd\n",
    "import matplotlib.pyplot as plt"
   ]
  },
  {
   "cell_type": "markdown",
   "id": "dd327b82",
   "metadata": {},
   "source": [
    "## MSEIRS Equations\n",
    "Reference: \n",
    "- https://www.freecodecamp.org/news/how-to-model-an-epidemic-with-r/ \n",
    "- https://repositorium.sdum.uminho.pt/bitstream/1822/60583/1/preprint.pdf"
   ]
  },
  {
   "cell_type": "markdown",
   "id": "af721f08",
   "metadata": {},
   "source": [
    "In our MSEIRS system, we make the below assumptions:\n",
    "1. The death rate and born rate are the same, which means the number of population will not change over time.\n",
    "2. Both passive maternally-derived immunity and temporary immunity weakened at the same rate"
   ]
  },
  {
   "cell_type": "code",
   "execution_count": 13,
   "id": "9a330707",
   "metadata": {},
   "outputs": [],
   "source": [
    "# define the SEIR function\n",
    "def MSEIRS_vaccination(time, current_state, lam, delta, start_time):\n",
    "    M, S, V, E, I, R = current_state\n",
    "    \n",
    "    beta = 0.5\n",
    "    sigma = 0.25\n",
    "    gamma = 0.2\n",
    "    alpha = 0\n",
    "    epsilon = 0\n",
    "    \n",
    "    # if vaccine starts, reset beta and sigma values\n",
    "    if time >= start_time:\n",
    "        beta -= 0.05\n",
    "        sigma -= 0.05\n",
    "        gamma += 0.05\n",
    "        # 6,000 people are vaccinated per day\n",
    "        alpha = 0.006\n",
    "        # Of all people vaccinated, 80% will be immune to the disease while 20% are not\n",
    "        epsilon = 0.8\n",
    "    \n",
    "    N = M + S + V + E + I + R\n",
    "    \n",
    "    # -weakend rate * infant with immunity + new born rate * new born with immunity prob\n",
    "    dM = -delta * M + lam * I * R / N\n",
    "    # - contact rate * contact probabilities \n",
    "    # + new born losing passive immunity rate \n",
    "    # + new born rate * new born without immunity prob\n",
    "    # - vaccine rate * vaccine efficiency * S\n",
    "    dS = -(beta * S * I) / N + delta * M + lam * I * (1 - R / N) + delta * R - alpha * epsilon * S\n",
    "    \n",
    "    dV = alpha * epsilon * S - (beta * V * I) / N\n",
    "    \n",
    "    # + Vaccinated individual\n",
    "    dE = (beta * S * I) / N - sigma * E + (beta * V * I) / N\n",
    "    \n",
    "    # infectious rate - recovery rate - death rate\n",
    "    dI = sigma * E - gamma * I - lam * I\n",
    "    \n",
    "    # recovery rate + immunity weakened rate\n",
    "    dR = gamma * I - delta * R\n",
    "    \n",
    "    return [dM, dS, dV, dE, dI, dR]"
   ]
  },
  {
   "cell_type": "markdown",
   "id": "52f7a38a",
   "metadata": {},
   "source": [
    "## Initial Parameters\n",
    "beta : Transmission/Contact rate  \n",
    "sigma : Infectious rate  \n",
    "gamma : Recovery rate  \n",
    "delta : Immunity weakened rate  \n",
    "lambda : Birth/Death rate \n",
    "days : Number of days to simulate"
   ]
  },
  {
   "cell_type": "code",
   "execution_count": 14,
   "id": "cfdf2644",
   "metadata": {},
   "outputs": [],
   "source": [
    "# Set the parameters\n",
    "lam = 0.05\n",
    "delta = 0.1\n",
    "\n",
    "# Start of intervention\n",
    "start_time = 90\n",
    "\n",
    "# Set the time points for simulation\n",
    "times = np.arange(0, 366)"
   ]
  },
  {
   "cell_type": "markdown",
   "id": "d90f510c",
   "metadata": {},
   "source": [
    "## S - Susceptible, E - Exposed, I - Infectious, R - Recovered\n",
    "M = 0: The initial number of new born with maternal immunity is set to 0.  \n",
    "S = 999999: The initial number of susceptible individuals is set to 999,999.  \n",
    "V = 0: The initial number of vaccinated individuals is set to 0.  \n",
    "E = 1: The initial number of exposed individuals is set to 1.  \n",
    "I = 0: The initial number of infectious individuals is set to 0.  \n",
    "R = 0: The initial number of recovered individuals is set to 0.  "
   ]
  },
  {
   "cell_type": "code",
   "execution_count": 15,
   "id": "47e8ffc9",
   "metadata": {},
   "outputs": [],
   "source": [
    "# initialise the initialise state of SEIR\n",
    "initial_state = [0, 999999, 0, 1, 0, 0]"
   ]
  },
  {
   "cell_type": "markdown",
   "id": "dec67d16",
   "metadata": {},
   "source": [
    "## solve_ivp\n",
    "To solve equation with respect to time"
   ]
  },
  {
   "cell_type": "code",
   "execution_count": 16,
   "id": "740f7820",
   "metadata": {},
   "outputs": [],
   "source": [
    "from scipy.integrate import solve_ivp"
   ]
  },
  {
   "cell_type": "code",
   "execution_count": 17,
   "id": "ff3b0301",
   "metadata": {},
   "outputs": [],
   "source": [
    "# Solve the SEIR model using solve_ivp\n",
    "solution = solve_ivp(lambda t, \n",
    "                    y: MSEIRS_vaccination(t, y, lam, delta, start_time), \n",
    "                    [times[0], times[-1]], \n",
    "                    initial_state, t_eval=times)"
   ]
  },
  {
   "cell_type": "markdown",
   "id": "90e9af1b",
   "metadata": {},
   "source": [
    "## Summary of model's statistics"
   ]
  },
  {
   "cell_type": "code",
   "execution_count": 22,
   "id": "c85e3bcc",
   "metadata": {},
   "outputs": [
    {
     "data": {
      "text/html": [
       "<div>\n",
       "<style scoped>\n",
       "    .dataframe tbody tr th:only-of-type {\n",
       "        vertical-align: middle;\n",
       "    }\n",
       "\n",
       "    .dataframe tbody tr th {\n",
       "        vertical-align: top;\n",
       "    }\n",
       "\n",
       "    .dataframe thead th {\n",
       "        text-align: right;\n",
       "    }\n",
       "</style>\n",
       "<table border=\"1\" class=\"dataframe\">\n",
       "  <thead>\n",
       "    <tr style=\"text-align: right;\">\n",
       "      <th></th>\n",
       "      <th>Compartment</th>\n",
       "      <th>Mean</th>\n",
       "      <th>Min</th>\n",
       "      <th>Max</th>\n",
       "      <th>25th</th>\n",
       "      <th>50th</th>\n",
       "      <th>75th</th>\n",
       "    </tr>\n",
       "  </thead>\n",
       "  <tbody>\n",
       "    <tr>\n",
       "      <th>0</th>\n",
       "      <td>M</td>\n",
       "      <td>2930.143426</td>\n",
       "      <td>0.000000</td>\n",
       "      <td>5427.261633</td>\n",
       "      <td>3.118073</td>\n",
       "      <td>4161.338056</td>\n",
       "      <td>5377.691454</td>\n",
       "    </tr>\n",
       "    <tr>\n",
       "      <th>1</th>\n",
       "      <td>S</td>\n",
       "      <td>715056.886843</td>\n",
       "      <td>548357.416344</td>\n",
       "      <td>999999.000000</td>\n",
       "      <td>570975.832196</td>\n",
       "      <td>573306.576199</td>\n",
       "      <td>979879.528514</td>\n",
       "    </tr>\n",
       "    <tr>\n",
       "      <th>2</th>\n",
       "      <td>V</td>\n",
       "      <td>80522.309811</td>\n",
       "      <td>0.000000</td>\n",
       "      <td>165357.788341</td>\n",
       "      <td>5584.915913</td>\n",
       "      <td>93948.260661</td>\n",
       "      <td>108176.298012</td>\n",
       "    </tr>\n",
       "    <tr>\n",
       "      <th>3</th>\n",
       "      <td>E</td>\n",
       "      <td>62384.105070</td>\n",
       "      <td>0.763966</td>\n",
       "      <td>99870.507185</td>\n",
       "      <td>6131.933838</td>\n",
       "      <td>98258.834282</td>\n",
       "      <td>98409.108338</td>\n",
       "    </tr>\n",
       "    <tr>\n",
       "      <th>4</th>\n",
       "      <td>I</td>\n",
       "      <td>41046.106459</td>\n",
       "      <td>0.000000</td>\n",
       "      <td>66596.155590</td>\n",
       "      <td>3897.111975</td>\n",
       "      <td>65199.959198</td>\n",
       "      <td>65634.285711</td>\n",
       "    </tr>\n",
       "    <tr>\n",
       "      <th>5</th>\n",
       "      <td>R</td>\n",
       "      <td>98060.448392</td>\n",
       "      <td>0.000000</td>\n",
       "      <td>165243.449110</td>\n",
       "      <td>4503.391688</td>\n",
       "      <td>151779.820100</td>\n",
       "      <td>163981.650621</td>\n",
       "    </tr>\n",
       "  </tbody>\n",
       "</table>\n",
       "</div>"
      ],
      "text/plain": [
       "  Compartment           Mean            Min            Max           25th  \\\n",
       "0           M    2930.143426       0.000000    5427.261633       3.118073   \n",
       "1           S  715056.886843  548357.416344  999999.000000  570975.832196   \n",
       "2           V   80522.309811       0.000000  165357.788341    5584.915913   \n",
       "3           E   62384.105070       0.763966   99870.507185    6131.933838   \n",
       "4           I   41046.106459       0.000000   66596.155590    3897.111975   \n",
       "5           R   98060.448392       0.000000  165243.449110    4503.391688   \n",
       "\n",
       "            50th           75th  \n",
       "0    4161.338056    5377.691454  \n",
       "1  573306.576199  979879.528514  \n",
       "2   93948.260661  108176.298012  \n",
       "3   98258.834282   98409.108338  \n",
       "4   65199.959198   65634.285711  \n",
       "5  151779.820100  163981.650621  "
      ]
     },
     "execution_count": 22,
     "metadata": {},
     "output_type": "execute_result"
    }
   ],
   "source": [
    "# num_scenarios = len(intervention_scenarios)\n",
    "# Create an empty DataFrame with column names\n",
    "df = pd.DataFrame(columns=['Compartment', 'Mean', 'Min', 'Max', '25th', '50th', '75th'])\n",
    "\n",
    "# Access the solution arrays\n",
    "M = solution.y[0]\n",
    "S = solution.y[1]\n",
    "V = solution.y[2]\n",
    "E = solution.y[3]\n",
    "I = solution.y[4]\n",
    "R = solution.y[5]\n",
    "\n",
    "# Calculate summary statistics\n",
    "summary_M = np.mean(M), np.min(M), np.max(M), np.percentile(M, [25, 50, 75])\n",
    "summary_S = np.mean(S), np.min(S), np.max(S), np.percentile(S, [25, 50, 75])\n",
    "summary_V = np.mean(V), np.min(V), np.max(V), np.percentile(V, [25, 50, 75])\n",
    "summary_E = np.mean(E), np.min(E), np.max(E), np.percentile(E, [25, 50, 75])\n",
    "summary_I = np.mean(I), np.min(I), np.max(I), np.percentile(I, [25, 50, 75])\n",
    "summary_R = np.mean(R), np.min(R), np.max(R), np.percentile(R, [25, 50, 75])\n",
    "\n",
    "list_summary = [summary_M, summary_S, summary_V, summary_E, summary_I, summary_R]\n",
    "summary_names = ['M', 'S', 'V', 'E', 'I', 'R']\n",
    "\n",
    "nrow = 0\n",
    "for i in range(len(list_summary)):\n",
    "    # Add data row by row using DataFrame.loc\n",
    "    df.loc[nrow] = [summary_names[i], \n",
    "                    list_summary[i][0], list_summary[i][1], list_summary[i][2], \n",
    "                     list_summary[i][3][0], list_summary[i][3][1], list_summary[i][3][2]]\n",
    "    nrow += 1\n",
    "\n",
    "df"
   ]
  },
  {
   "cell_type": "code",
   "execution_count": 19,
   "id": "b9e5edc5",
   "metadata": {},
   "outputs": [
    {
     "name": "stdout",
     "output_type": "stream",
     "text": [
      "  Intervention Compartment            Min       Max\n",
      "1  Vaccination           S  548357.416344  999999.0\n",
      "  Intervention Compartment  Min            Max\n",
      "2  Vaccination           V  0.0  165357.788341\n",
      "  Intervention Compartment  Min          Max\n",
      "4  Vaccination           I  0.0  66596.15559\n",
      "  Intervention Compartment  Min           Max\n",
      "5  Vaccination           R  0.0  165243.44911\n"
     ]
    }
   ],
   "source": [
    "# Extract rows based on a condition\n",
    "comp_lst = ['S', 'V', 'I', 'R']\n",
    "\n",
    "for i in range(len(comp_lst)):\n",
    "    df_extract = df[df['Compartment'] == comp_lst[i]]\n",
    "    print(df_extract[['Intervention', 'Compartment', 'Min', 'Max']])"
   ]
  },
  {
   "cell_type": "code",
   "execution_count": 20,
   "id": "6e6b37cb",
   "metadata": {},
   "outputs": [
    {
     "data": {
      "image/png": "[encoded data removed]",
      "text/plain": [
       "<Figure size 432x288 with 1 Axes>"
      ]
     },
     "metadata": {
      "needs_background": "light"
     },
     "output_type": "display_data"
    }
   ],
   "source": [
    "# Plot   \n",
    "plt.plot(times, M, label='Maternal Immunity')\n",
    "plt.plot(times, S, label='Susceptible')\n",
    "plt.plot(times, V, label='Vaccinated')\n",
    "plt.plot(times, E, label='Exposed')\n",
    "plt.plot(times, I, label='Infected')\n",
    "plt.plot(times, R, label='Recovered')\n",
    "plt.xlabel('Day')\n",
    "plt.ylabel('Population')\n",
    "plt.title(\"Vaccination\")\n",
    "plt.legend()\n",
    "plt.grid(True)\n",
    "plt.show()"
   ]
  },
  {
   "cell_type": "markdown",
   "id": "a481e649",
   "metadata": {},
   "source": [
    "## Percentage change"
   ]
  },
  {
   "cell_type": "code",
   "execution_count": 25,
   "id": "8bc8c614",
   "metadata": {},
   "outputs": [
    {
     "name": "stdout",
     "output_type": "stream",
     "text": [
      "% change of not infected: 14.76\n",
      "% change of infected: -50.41\n"
     ]
    }
   ],
   "source": [
    "pct_S = (summary_S[1] - 477812)/477812 * 100\n",
    "pct_I = (summary_I[2] - 134301)/134301 * 100\n",
    "# pct_R = (summary_R[2] - 252928)/252928 * 100\n",
    "\n",
    "print('% change of not infected:', round(pct_S, 2))\n",
    "print('% change of infected:', round(pct_I, 2))"
   ]
  }
 ],
 "metadata": {
  "kernelspec": {
   "display_name": "Python 3 (ipykernel)",
   "language": "python",
   "name": "python3"
  },
  "language_info": {
   "codemirror_mode": {
    "name": "ipython",
    "version": 3
   },
   "file_extension": ".py",
   "mimetype": "text/x-python",
   "name": "python",
   "nbconvert_exporter": "python",
   "pygments_lexer": "ipython3",
   "version": "3.9.7"
  }
 },
 "nbformat": 4,
 "nbformat_minor": 5
}
