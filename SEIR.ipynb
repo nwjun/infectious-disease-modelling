{
 "cells": [
  {
   "cell_type": "code",
   "execution_count": 1,
   "id": "e0485fa7",
   "metadata": {},
   "outputs": [],
   "source": [
    "import numpy as np\n",
    "import pandas as pd\n",
    "import matplotlib.pyplot as plt"
   ]
  },
  {
   "cell_type": "markdown",
   "id": "dd327b82",
   "metadata": {},
   "source": [
    "## SEIR Equations\n",
    "Reference: https://www.freecodecamp.org/news/how-to-model-an-epidemic-with-r/ "
   ]
  },
  {
   "cell_type": "code",
   "execution_count": 2,
   "id": "85fd51a7",
   "metadata": {},
   "outputs": [],
   "source": [
    "# define the SEIR function\n",
    "def SEIR_model(time, current_state, beta, sigma, gamma):\n",
    "    S, E, I, R = current_state\n",
    "        \n",
    "    N = S + E + I + R\n",
    "    dS = -(beta * S * I) / N\n",
    "    dE = (beta * S * I) / N - sigma * E\n",
    "    dI = sigma * E - gamma * I\n",
    "    dR = gamma * I\n",
    "    \n",
    "    return [dS, dE, dI, dR]"
   ]
  },
  {
   "cell_type": "markdown",
   "id": "52f7a38a",
   "metadata": {},
   "source": [
    "## Initial Parameters\n",
    "beta = 0.5 : Transmission/Contact rate  \n",
    "sigma = 0.25 : Infectious rate  \n",
    "gamma = 0.2 : Recovery rate  \n",
    "\n",
    "days = 365 : Number of days to simulate"
   ]
  },
  {
   "cell_type": "code",
   "execution_count": 3,
   "id": "2f6b7528",
   "metadata": {},
   "outputs": [],
   "source": [
    "# initialise parameters\n",
    "params = {\n",
    "    'beta': 0.5,\n",
    "    'sigma': 0.25,\n",
    "    'gamma': 0.2\n",
    "}\n",
    "\n",
    "times = np.arange(0, 366)"
   ]
  },
  {
   "cell_type": "markdown",
   "id": "d90f510c",
   "metadata": {},
   "source": [
    "## S - Susceptible, E - Exposed, I - Infectious, R - Recovered\n",
    "S = 999999: The initial number of susceptible individuals is set to 999,999.  \n",
    "E = 1: The initial number of exposed individuals is set to 1.  \n",
    "I = 0: The initial number of infectious individuals is set to 0.  \n",
    "R = 0: The initial number of recovered individuals is set to 0.  "
   ]
  },
  {
   "cell_type": "code",
   "execution_count": 4,
   "id": "47e8ffc9",
   "metadata": {},
   "outputs": [],
   "source": [
    "# initialise the initialise state of SEIR\n",
    "initial_state = [999999, 1, 0, 0]"
   ]
  },
  {
   "cell_type": "markdown",
   "id": "dec67d16",
   "metadata": {},
   "source": [
    "## solve_ivp\n",
    "To solve equation with respect to time"
   ]
  },
  {
   "cell_type": "code",
   "execution_count": 5,
   "id": "740f7820",
   "metadata": {},
   "outputs": [],
   "source": [
    "from scipy.integrate import solve_ivp"
   ]
  },
  {
   "cell_type": "code",
   "execution_count": 6,
   "id": "6dacc998",
   "metadata": {},
   "outputs": [],
   "source": [
    "# Solve the SEIR model using solve_ivp\n",
    "solution = solve_ivp(lambda t, y: SEIR_model(t, y, **params), [times[0], times[-1]], initial_state, t_eval=times)"
   ]
  },
  {
   "cell_type": "markdown",
   "id": "90e9af1b",
   "metadata": {},
   "source": [
    "## Summary of model's statistics"
   ]
  },
  {
   "cell_type": "code",
   "execution_count": 7,
   "id": "113ac4bf",
   "metadata": {},
   "outputs": [
    {
     "name": "stdout",
     "output_type": "stream",
     "text": [
      "Summary of S :\n",
      "Mean: 361211.86036770145\n",
      "Minimum: 107351.99388389131\n",
      "Maximum: 999999.0\n",
      "25th Percentile: 107352.00144070151\n",
      "50th Percentile (Median): 107476.88694576031\n",
      "75th Percentile: 846752.0731023097\n",
      "\n",
      "Summary of E :\n",
      "Mean: 9754.945934199244\n",
      "Minimum: 4.312791617896341e-07\n",
      "Maximum: 109689.09567478919\n",
      "25th Percentile: 0.0056071516037324645\n",
      "50th Percentile (Median): 8.230432459756965\n",
      "75th Percentile: 1701.8511626319923\n",
      "\n",
      "Summary of I :\n",
      "Mean: 12195.176657245633\n",
      "Minimum: 0.0\n",
      "Maximum: 127748.68692057609\n",
      "25th Percentile: 0.013479029324609395\n",
      "50th Percentile (Median): 12.576834568421683\n",
      "75th Percentile: 2582.7453622226194\n",
      "\n",
      "Summary of R :\n",
      "Mean: 616838.0170408537\n",
      "Minimum: 0.0\n",
      "Maximum: 892648.0061149226\n",
      "25th Percentile: 66552.36916044446\n",
      "50th Percentile (Median): 892182.9125833818\n",
      "75th Percentile: 892647.9779577932\n",
      "\n"
     ]
    }
   ],
   "source": [
    "# Access the solution arrays\n",
    "S = solution.y[0]\n",
    "E = solution.y[1]\n",
    "I = solution.y[2]\n",
    "R = solution.y[3]\n",
    "\n",
    "# Calculate summary statistics\n",
    "summary_S = np.mean(S), np.min(S), np.max(S), np.percentile(S, [25, 50, 75])\n",
    "summary_E = np.mean(E), np.min(E), np.max(E), np.percentile(E, [25, 50, 75])\n",
    "summary_I = np.mean(I), np.min(I), np.max(I), np.percentile(I, [25, 50, 75])\n",
    "summary_R = np.mean(R), np.min(R), np.max(R), np.percentile(R, [25, 50, 75])\n",
    "\n",
    "list_summary = [summary_S, summary_E, summary_I, summary_R]\n",
    "summary_names = ['S', 'E', 'I', 'R']\n",
    "\n",
    "for i in range(len(list_summary)):\n",
    "    print(\"Summary of\", summary_names[i], \":\")\n",
    "    print(\"Mean:\", list_summary[i][0])\n",
    "    print(\"Minimum:\", list_summary[i][1])\n",
    "    print(\"Maximum:\", list_summary[i][2])\n",
    "    print(\"25th Percentile:\", list_summary[i][3][0])\n",
    "    print(\"50th Percentile (Median):\", list_summary[i][3][1])\n",
    "    print(\"75th Percentile:\", list_summary[i][3][2])\n",
    "    print()\n"
   ]
  },
  {
   "cell_type": "markdown",
   "id": "c571699e",
   "metadata": {},
   "source": [
    "## Infection peak when there is no intervention taken"
   ]
  },
  {
   "cell_type": "code",
   "execution_count": 8,
   "id": "b8e79143",
   "metadata": {},
   "outputs": [
    {
     "name": "stdout",
     "output_type": "stream",
     "text": [
      "The number of infections peaked on day 111 with 127749 people.\n",
      "The number of exposed peaked on day 107 with 109689 people.\n"
     ]
    }
   ],
   "source": [
    "# Create a dataframe from the solution arrays\n",
    "df_model = pd.DataFrame({\n",
    "    'Time': times,\n",
    "    'Susceptible': solution.y[0],\n",
    "    'Exposed': solution.y[1],\n",
    "    'Infectious': solution.y[2],\n",
    "    'Recovered': solution.y[3]\n",
    "})\n",
    "\n",
    "# Extract the Infectious column\n",
    "df_infections = df_model['Infectious']\n",
    "\n",
    "# Obtain the max number of people infected\n",
    "peak_infections = df_infections.max()\n",
    "\n",
    "# Obtain the n-day when the number of people infected is max\n",
    "peak_time = df_infections.idxmax()\n",
    "\n",
    "print(\"The number of infections peaked on day\", peak_time, \"with\", round(peak_infections), \"people.\")\n",
    "\n",
    "# Extract the Exposed column\n",
    "df_exposed = df_model['Exposed']\n",
    "\n",
    "# Obtain the max number of people exposed\n",
    "peak_exposed = df_exposed.max()\n",
    "\n",
    "# Obtain the n-day when the number of people exposed is max\n",
    "peak_time_exposed = df_exposed.idxmax()\n",
    "\n",
    "print(\"The number of exposed peaked on day\", peak_time_exposed, \"with\", round(peak_exposed), \"people.\")"
   ]
  },
  {
   "cell_type": "code",
   "execution_count": 9,
   "id": "0677f71f",
   "metadata": {},
   "outputs": [
    {
     "data": {
      "image/png": "[encoded data removed]",
      "text/plain": [
       "<Figure size 720x432 with 1 Axes>"
      ]
     },
     "metadata": {
      "needs_background": "light"
     },
     "output_type": "display_data"
    }
   ],
   "source": [
    "# Plotting the SEIR model\n",
    "plt.figure(figsize=(10, 6))\n",
    "plt.plot(times, S, label='Susceptible')\n",
    "plt.plot(times, E, label='Exposed')\n",
    "plt.plot(times, I, label='Infected')\n",
    "plt.plot(times, R, label='Recovered')\n",
    "plt.xlabel('Day')\n",
    "plt.ylabel('Population')\n",
    "plt.title('SEIR Model')\n",
    "plt.legend()\n",
    "plt.grid(True)\n",
    "\n",
    "# # Adding horizontal and vertical lines to the peak infectious point\n",
    "# point_x = peak_time  \n",
    "# point_y = peak_infections\n",
    "\n",
    "# # Horizontal line\n",
    "# plt.axhline(y=point_y, color='black', linestyle='--')  \n",
    "# # Vertical line\n",
    "# plt.axvline(x=point_x, color='black', linestyle='--')  \n",
    "\n",
    "# # Marking the point\n",
    "# plt.scatter(point_x, point_y, color='black', marker='o')  \n",
    "\n",
    "# # Adding text annotation for the point coordinates\n",
    "# plt.text(point_x + 5, point_y + 30000, f'({point_x}, {round(point_y)})', color='black')\n",
    "\n",
    "plt.show()"
   ]
  }
 ],
 "metadata": {
  "kernelspec": {
   "display_name": "Python 3 (ipykernel)",
   "language": "python",
   "name": "python3"
  },
  "language_info": {
   "codemirror_mode": {
    "name": "ipython",
    "version": 3
   },
   "file_extension": ".py",
   "mimetype": "text/x-python",
   "name": "python",
   "nbconvert_exporter": "python",
   "pygments_lexer": "ipython3",
   "version": "3.9.7"
  }
 },
 "nbformat": 4,
 "nbformat_minor": 5
}
