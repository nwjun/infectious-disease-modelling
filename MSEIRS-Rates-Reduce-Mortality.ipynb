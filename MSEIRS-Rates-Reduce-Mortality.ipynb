{
 "cells": [
  {
   "cell_type": "markdown",
   "id": "5bcf0e3e",
   "metadata": {},
   "source": [
    "## To identify which rate is the most effective in reducing mortality"
   ]
  },
  {
   "cell_type": "code",
   "execution_count": 270,
   "id": "e0485fa7",
   "metadata": {},
   "outputs": [],
   "source": [
    "import numpy as np\n",
    "import pandas as pd\n",
    "import matplotlib.pyplot as plt"
   ]
  },
  {
   "cell_type": "markdown",
   "id": "dd327b82",
   "metadata": {},
   "source": [
    "## MSEIRS Equations\n",
    "Reference: \n",
    "- https://www.freecodecamp.org/news/how-to-model-an-epidemic-with-r/ "
   ]
  },
  {
   "cell_type": "markdown",
   "id": "af721f08",
   "metadata": {},
   "source": [
    "In our MSEIRS system, we make the below assumptions:\n",
    "1. The death rate and born rate are the same, which means the number of population will not change over time.\n",
    "2. Both passive maternally-derived immunity and temporary immunity weakened at the same rate"
   ]
  },
  {
   "cell_type": "code",
   "execution_count": 271,
   "id": "85fd51a7",
   "metadata": {},
   "outputs": [],
   "source": [
    "# define the SEIR function\n",
    "def MSEIRS_model(time, current_state, beta, sigma, gamma, delta, lam):\n",
    "    M, S, E, I, R, D = current_state\n",
    "    \n",
    "    N = M + S + E + I + R + D\n",
    "    # -weakend rate * infant with immunity + new born rate * new born with immunity prob\n",
    "    dM = -delta * M + lam * I * R / N\n",
    "    # - contact rate * contact probabilities \n",
    "    # + new born losing passive immunity rate \n",
    "    # + new born rate * new born without immunity prob\n",
    "    dS = -(beta * S * I) / N + delta * M + lam * I * (1 - R / N) + delta * R\n",
    "    dE = (beta * S * I) / N - sigma * E\n",
    "    # infectious rate - recovery rate - death rate\n",
    "    dI = sigma * E - gamma * I - lam * I\n",
    "    # recovery rate + immunity weakened rate\n",
    "    dR = gamma * I - delta * R\n",
    "    dD = lam * I\n",
    "    \n",
    "    return [dM, dS, dE, dI, dR, dD]"
   ]
  },
  {
   "cell_type": "markdown",
   "id": "52f7a38a",
   "metadata": {},
   "source": [
    "## Initial Parameters\n",
    "beta = 0.5 : Transmission/Contact rate  \n",
    "sigma = 0.25 : Infectious rate  \n",
    "gamma = 0.2 : Recovery rate  \n",
    "delta = 0.1 : Immunity weakened rate  \n",
    "lambda = 0.05 : Birth/Death rate \n",
    "days = 365 : Number of days to simulate"
   ]
  },
  {
   "cell_type": "markdown",
   "id": "4aef9495",
   "metadata": {},
   "source": [
    "Note: Please comment/uncomment and re-run all the codes to use the related parameters."
   ]
  },
  {
   "cell_type": "code",
   "execution_count": 272,
   "id": "261209ab",
   "metadata": {},
   "outputs": [],
   "source": [
    "# control\n",
    "\n",
    "# delta = 0.1\n",
    "# beta = 0.5\n",
    "# sigma = 0.25\n",
    "# gamma = 0.2\n",
    "# lam = 0.05"
   ]
  },
  {
   "cell_type": "code",
   "execution_count": 273,
   "id": "2f6b7528",
   "metadata": {},
   "outputs": [],
   "source": [
    "# decrease each rate by 0.05\n",
    "\n",
    "# reduce rate of M->S, delta\n",
    "# delta = 0.05\n",
    "# beta = 0.5\n",
    "# sigma = 0.25\n",
    "# gamma = 0.2\n",
    "# lam = 0.05\n",
    "\n",
    "# reduce transmission rate, beta\n",
    "# delta = 0.1\n",
    "# beta = 0.45\n",
    "# sigma = 0.25\n",
    "# gamma = 0.2\n",
    "# lam = 0.05\n",
    "\n",
    "# reduce infectious rate, sigma\n",
    "# delta = 0.1\n",
    "# beta = 0.5\n",
    "# sigma = 0.2\n",
    "# gamma = 0.2\n",
    "# lam = 0.05\n",
    "\n",
    "# reduce recovery rate, gamma\n",
    "# delta = 0.1\n",
    "# beta = 0.5\n",
    "# sigma = 0.25\n",
    "# gamma = 0.15\n",
    "# lam = 0.05"
   ]
  },
  {
   "cell_type": "code",
   "execution_count": 274,
   "id": "89dd6d97",
   "metadata": {},
   "outputs": [],
   "source": [
    "# increase each rate by 0.05\n",
    "\n",
    "# control\n",
    "# delta = 0.1\n",
    "# beta = 0.5\n",
    "# sigma = 0.25\n",
    "# gamma = 0.2\n",
    "# lam = 0.05\n",
    "\n",
    "# incr. delta\n",
    "# delta = 0.15\n",
    "# beta = 0.5\n",
    "# sigma = 0.25\n",
    "# gamma = 0.2\n",
    "# lam = 0.05\n",
    "\n",
    "# incr. beta\n",
    "# delta = 0.1\n",
    "# beta = 0.55\n",
    "# sigma = 0.25\n",
    "# gamma = 0.2\n",
    "# lam = 0.05\n",
    "\n",
    "# incr. sigma\n",
    "# delta = 0.1\n",
    "# beta = 0.5\n",
    "# sigma = 0.30\n",
    "# gamma = 0.2\n",
    "# lam = 0.05\n",
    "\n",
    "# incr. gamma\n",
    "delta = 0.1\n",
    "beta = 0.5\n",
    "sigma = 0.25\n",
    "gamma = 0.25\n",
    "lam = 0.05"
   ]
  },
  {
   "cell_type": "markdown",
   "id": "d90f510c",
   "metadata": {},
   "source": [
    "## M - Maternal Immunity, S - Susceptible, E - Exposed, I - Infectious, R - Recovered, D - Death\n",
    "M = 0: The initial number of new born with maternal immunity is set to 0.  \n",
    "S = 999999: The initial number of susceptible individuals is set to 999,999.  \n",
    "E = 1: The initial number of exposed individuals is set to 1.  \n",
    "I = 0: The initial number of infectious individuals is set to 0.  \n",
    "R = 0: The initial number of recovered individuals is set to 0.  \n",
    "D = 0: The initial number of death is set to 0.  "
   ]
  },
  {
   "cell_type": "code",
   "execution_count": 275,
   "id": "47e8ffc9",
   "metadata": {},
   "outputs": [],
   "source": [
    "times = np.arange(0, 366)\n",
    "\n",
    "# initialise the initialise state of MSEIRD\n",
    "initial_state = [0, 999999, 1, 0, 0, 0]"
   ]
  },
  {
   "cell_type": "markdown",
   "id": "dec67d16",
   "metadata": {},
   "source": [
    "## solve_ivp\n",
    "To solve equation with respect to time"
   ]
  },
  {
   "cell_type": "code",
   "execution_count": 276,
   "id": "740f7820",
   "metadata": {},
   "outputs": [],
   "source": [
    "from scipy.integrate import solve_ivp"
   ]
  },
  {
   "cell_type": "code",
   "execution_count": 277,
   "id": "6dacc998",
   "metadata": {},
   "outputs": [],
   "source": [
    "# Solve the SEIR model using solve_ivp\n",
    "solution = solve_ivp(lambda t, y: MSEIRS_model(t, y, beta, sigma, gamma, delta, lam), [times[0], times[-1]], initial_state, t_eval=times)"
   ]
  },
  {
   "cell_type": "markdown",
   "id": "90e9af1b",
   "metadata": {},
   "source": [
    "## Summary of model's statistics"
   ]
  },
  {
   "cell_type": "code",
   "execution_count": 278,
   "id": "113ac4bf",
   "metadata": {},
   "outputs": [
    {
     "name": "stdout",
     "output_type": "stream",
     "text": [
      "Summary of M :\n",
      "Mean: 1422.4418005374944\n",
      "Minimum: 0.0\n",
      "Maximum: 177510.57662794986\n",
      "25th Percentile: 689.2155193620534\n",
      "50th Percentile (Median): 76383.37824327615\n",
      "75th Percentile: 121937.6636149188\n",
      "\n",
      "Summary of S :\n",
      "Mean: 863205.9967335666\n",
      "Minimum: 659611.9608475579\n",
      "Maximum: 999999.0\n",
      "25th Percentile: 768936.7653701111\n",
      "50th Percentile (Median): 855969.2435900245\n",
      "75th Percentile: 998067.7110993116\n",
      "\n",
      "Summary of E :\n",
      "Mean: 35213.87987207622\n",
      "Minimum: 0.7496744815983862\n",
      "Maximum: 89907.5809266543\n",
      "25th Percentile: 749.1412096241767\n",
      "50th Percentile (Median): 36206.22019580859\n",
      "75th Percentile: 58217.44460450219\n",
      "\n",
      "Summary of I :\n",
      "Mean: 29129.84926947377\n",
      "Minimum: 0.0\n",
      "Maximum: 74503.86627380174\n",
      "25th Percentile: 493.8662398072327\n",
      "50th Percentile (Median): 30192.11347246736\n",
      "75th Percentile: 48461.91720901925\n",
      "\n",
      "Summary of R :\n",
      "Mean: 71027.8323243458\n",
      "Minimum: 0.0\n",
      "Maximum: 177510.57662794986\n",
      "25th Percentile: 689.2155193620534\n",
      "50th Percentile (Median): 76383.37824327615\n",
      "75th Percentile: 121937.6636149188\n",
      "\n",
      "Summary of D :\n",
      "Mean: 190675.36410029413\n",
      "Minimum: 0.0\n",
      "Maximum: 532373.6625561062\n",
      "25th Percentile: 311.37708430439693\n",
      "50th Percentile (Median): 125982.11958933089\n",
      "75th Percentile: 383916.30387309554\n",
      "\n"
     ]
    }
   ],
   "source": [
    "# Access the solution arrays\n",
    "M = solution.y[0]\n",
    "S = solution.y[1]\n",
    "E = solution.y[2]\n",
    "I = solution.y[3]\n",
    "R = solution.y[4]\n",
    "D = solution.y[5]\n",
    "\n",
    "# Calculate summary statistics\n",
    "summary_M = np.mean(M), np.min(R), np.max(R), np.percentile(R, [25, 50, 75])\n",
    "summary_S = np.mean(S), np.min(S), np.max(S), np.percentile(S, [25, 50, 75])\n",
    "summary_E = np.mean(E), np.min(E), np.max(E), np.percentile(E, [25, 50, 75])\n",
    "summary_I = np.mean(I), np.min(I), np.max(I), np.percentile(I, [25, 50, 75])\n",
    "summary_R = np.mean(R), np.min(R), np.max(R), np.percentile(R, [25, 50, 75])\n",
    "summary_D = np.mean(D), np.min(D), np.max(D), np.percentile(D, [25, 50, 75])\n",
    "\n",
    "list_summary = [summary_M, summary_S, summary_E, summary_I, summary_R, summary_D]\n",
    "summary_names = ['M', 'S', 'E', 'I', 'R', 'D']\n",
    "\n",
    "for i in range(len(list_summary)):\n",
    "    print(\"Summary of\", summary_names[i], \":\")\n",
    "    print(\"Mean:\", list_summary[i][0])\n",
    "    print(\"Minimum:\", list_summary[i][1])\n",
    "    print(\"Maximum:\", list_summary[i][2])\n",
    "    print(\"25th Percentile:\", list_summary[i][3][0])\n",
    "    print(\"50th Percentile (Median):\", list_summary[i][3][1])\n",
    "    print(\"75th Percentile:\", list_summary[i][3][2])\n",
    "    print()\n"
   ]
  },
  {
   "cell_type": "code",
   "execution_count": 279,
   "id": "e17d46c5",
   "metadata": {},
   "outputs": [
    {
     "data": {
      "image/png": "[encoded data removed]",
      "text/plain": [
       "<Figure size 720x432 with 1 Axes>"
      ]
     },
     "metadata": {
      "needs_background": "light"
     },
     "output_type": "display_data"
    }
   ],
   "source": [
    "# Plotting the SEIR model\n",
    "plt.figure(figsize=(10, 6))\n",
    "plt.plot(times, M, label='Maternity immunity')\n",
    "plt.plot(times, S, label='Susceptible')\n",
    "plt.plot(times, E, label='Exposed')\n",
    "plt.plot(times, I, label='Infected')\n",
    "plt.plot(times, R, label='Recovered')\n",
    "plt.plot(times, D, label='Death')\n",
    "plt.xlabel('Day')\n",
    "plt.ylabel('Population')\n",
    "plt.title('MSEIRS Model with Death')\n",
    "plt.legend()\n",
    "plt.grid(True)\n",
    "plt.show()"
   ]
  }
 ],
 "metadata": {
  "kernelspec": {
   "display_name": "Python 3 (ipykernel)",
   "language": "python",
   "name": "python3"
  },
  "language_info": {
   "codemirror_mode": {
    "name": "ipython",
    "version": 3
   },
   "file_extension": ".py",
   "mimetype": "text/x-python",
   "name": "python",
   "nbconvert_exporter": "python",
   "pygments_lexer": "ipython3",
   "version": "3.9.7"
  }
 },
 "nbformat": 4,
 "nbformat_minor": 5
}
