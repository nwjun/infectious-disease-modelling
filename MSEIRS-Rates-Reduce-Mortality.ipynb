{
 "cells": [
  {
   "cell_type": "markdown",
   "id": "5bcf0e3e",
   "metadata": {},
   "source": [
    "## To identify which rate is the most effective in reducing mortality"
   ]
  },
  {
   "cell_type": "code",
   "execution_count": 1,
   "id": "e0485fa7",
   "metadata": {},
   "outputs": [
    {
     "name": "stderr",
     "output_type": "stream",
     "text": [
      "C:\\Users\\Janice\\anaconda3\\lib\\site-packages\\numpy\\_distributor_init.py:30: UserWarning: loaded more than 1 DLL from .libs:\n",
      "C:\\Users\\Janice\\anaconda3\\lib\\site-packages\\numpy\\.libs\\libopenblas.EL2C6PLE4ZYW3ECEVIV3OXXGRN2NRFM2.gfortran-win_amd64.dll\n",
      "C:\\Users\\Janice\\anaconda3\\lib\\site-packages\\numpy\\.libs\\libopenblas64__v0.3.21-gcc_10_3_0.dll\n",
      "  warnings.warn(\"loaded more than 1 DLL from .libs:\"\n"
     ]
    }
   ],
   "source": [
    "import numpy as np\n",
    "import pandas as pd\n",
    "import matplotlib.pyplot as plt"
   ]
  },
  {
   "cell_type": "markdown",
   "id": "dd327b82",
   "metadata": {},
   "source": [
    "## MSEIRS Equations\n",
    "Reference: \n",
    "- https://www.freecodecamp.org/news/how-to-model-an-epidemic-with-r/ "
   ]
  },
  {
   "cell_type": "markdown",
   "id": "af721f08",
   "metadata": {},
   "source": [
    "In our MSEIRS system, we make the below assumptions:\n",
    "1. The death rate and born rate are the same, which means the number of population will not change over time.\n",
    "2. Both passive maternally-derived immunity and temporary immunity weakened at the same rate"
   ]
  },
  {
   "cell_type": "code",
   "execution_count": 2,
   "id": "85fd51a7",
   "metadata": {},
   "outputs": [],
   "source": [
    "# define the MSEIRS function\n",
    "def MSEIRS_model(time, current_state, beta, sigma, gamma, delta, lam):\n",
    "    M, S, E, I, R, D = current_state\n",
    "    \n",
    "    N = M + S + E + I + R\n",
    "    # -weakend rate * infant with immunity + new born rate * new born with immunity prob\n",
    "    dM = -delta * M + lam * I * R / N\n",
    "    # - contact rate * contact probabilities \n",
    "    # + new born losing passive immunity rate \n",
    "    # + new born rate * new born without immunity prob\n",
    "    dS = -(beta * S * I) / N + delta * M + lam * I * (1 - R / N) + delta * R\n",
    "    dE = (beta * S * I) / N - sigma * E\n",
    "    # infectious rate - recovery rate - death rate\n",
    "    dI = sigma * E - gamma * I - lam * I\n",
    "    # recovery rate + immunity weakened rate\n",
    "    dR = gamma * I - delta * R\n",
    "    # number of death\n",
    "    dD = lam * I \n",
    "    \n",
    "    return [dM, dS, dE, dI, dR, dD]"
   ]
  },
  {
   "cell_type": "markdown",
   "id": "52f7a38a",
   "metadata": {},
   "source": [
    "## Initial Parameters\n",
    "beta = 0.5 : Transmission/Contact rate  \n",
    "sigma = 0.25 : Infectious rate  \n",
    "gamma = 0.2 : Recovery rate  \n",
    "delta = 0.1 : Immunity weakened rate  \n",
    "lambda = 0.05 : Birth/Death rate \n",
    "days = 365 : Number of days to simulate"
   ]
  },
  {
   "cell_type": "markdown",
   "id": "4aef9495",
   "metadata": {},
   "source": [
    "Note: Please comment/uncomment and re-run all the codes to use the related parameters."
   ]
  },
  {
   "cell_type": "code",
   "execution_count": 3,
   "id": "261209ab",
   "metadata": {},
   "outputs": [],
   "source": [
    "# control\n",
    "\n",
    "delta = 0.1\n",
    "beta = 0.5\n",
    "sigma = 0.25\n",
    "gamma = 0.2\n",
    "lam = 0.05"
   ]
  },
  {
   "cell_type": "code",
   "execution_count": 4,
   "id": "2f6b7528",
   "metadata": {},
   "outputs": [],
   "source": [
    "# decrease each rate by 0.05\n",
    "\n",
    "# reduce rate of M->S, delta\n",
    "# delta = 0.05\n",
    "# beta = 0.5\n",
    "# sigma = 0.25\n",
    "# gamma = 0.2\n",
    "# lam = 0.05\n",
    "\n",
    "# reduce transmission rate, beta\n",
    "# delta = 0.1\n",
    "# beta = 0.45\n",
    "# sigma = 0.25\n",
    "# gamma = 0.2\n",
    "# lam = 0.05\n",
    "\n",
    "# reduce infectious rate, sigma\n",
    "# delta = 0.1\n",
    "# beta = 0.5\n",
    "# sigma = 0.2\n",
    "# gamma = 0.2\n",
    "# lam = 0.05\n",
    "\n",
    "# reduce recovery rate, gamma\n",
    "# delta = 0.1\n",
    "# beta = 0.5\n",
    "# sigma = 0.25\n",
    "# gamma = 0.15\n",
    "# lam = 0.05"
   ]
  },
  {
   "cell_type": "code",
   "execution_count": 5,
   "id": "89dd6d97",
   "metadata": {},
   "outputs": [],
   "source": [
    "# increase each rate by 0.05\n",
    "\n",
    "# incr. delta\n",
    "# delta = 0.15\n",
    "# beta = 0.5\n",
    "# sigma = 0.25\n",
    "# gamma = 0.2\n",
    "# lam = 0.05\n",
    "\n",
    "# incr. beta\n",
    "# delta = 0.1\n",
    "# beta = 0.55\n",
    "# sigma = 0.25\n",
    "# gamma = 0.2\n",
    "# lam = 0.05\n",
    "\n",
    "# incr. sigma\n",
    "# delta = 0.1\n",
    "# beta = 0.5\n",
    "# sigma = 0.30\n",
    "# gamma = 0.2\n",
    "# lam = 0.05\n",
    "\n",
    "# incr. gamma\n",
    "# delta = 0.1\n",
    "# beta = 0.5\n",
    "# sigma = 0.25\n",
    "# gamma = 0.25\n",
    "# lam = 0.05"
   ]
  },
  {
   "cell_type": "markdown",
   "id": "d90f510c",
   "metadata": {},
   "source": [
    "## M - Maternal Immunity, S - Susceptible, E - Exposed, I - Infectious, R - Recovered, D - Death\n",
    "M = 0: The initial number of new born with maternal immunity is set to 0.  \n",
    "S = 999999: The initial number of susceptible individuals is set to 999,999.  \n",
    "E = 1: The initial number of exposed individuals is set to 1.  \n",
    "I = 0: The initial number of infectious individuals is set to 0.  \n",
    "R = 0: The initial number of recovered individuals is set to 0.  \n",
    "D = 0: The initial number of death is set to 0.  "
   ]
  },
  {
   "cell_type": "code",
   "execution_count": 6,
   "id": "47e8ffc9",
   "metadata": {},
   "outputs": [],
   "source": [
    "times = np.arange(0, 366)\n",
    "\n",
    "# initialise the initialise state of MSEIRD\n",
    "initial_state = [0, 999999, 1, 0, 0, 0]"
   ]
  },
  {
   "cell_type": "markdown",
   "id": "dec67d16",
   "metadata": {},
   "source": [
    "## solve_ivp\n",
    "To solve equation with respect to time"
   ]
  },
  {
   "cell_type": "code",
   "execution_count": 7,
   "id": "740f7820",
   "metadata": {},
   "outputs": [],
   "source": [
    "from scipy.integrate import solve_ivp"
   ]
  },
  {
   "cell_type": "code",
   "execution_count": 8,
   "id": "6dacc998",
   "metadata": {},
   "outputs": [],
   "source": [
    "# Solve the MSEIRS model using solve_ivp\n",
    "solution = solve_ivp(lambda t, y: MSEIRS_model(t, y, beta, sigma, gamma, delta, lam), [times[0], times[-1]], initial_state, t_eval=times)"
   ]
  },
  {
   "cell_type": "markdown",
   "id": "90e9af1b",
   "metadata": {},
   "source": [
    "## Summary of model's statistics"
   ]
  },
  {
   "cell_type": "code",
   "execution_count": 9,
   "id": "113ac4bf",
   "metadata": {},
   "outputs": [
    {
     "name": "stdout",
     "output_type": "stream",
     "text": [
      "Summary of M :\n",
      "Mean: 9166.517676663345\n",
      "Minimum: 0.0\n",
      "Maximum: 252953.34924378793\n",
      "25th Percentile: 4351.876238486426\n",
      "50th Percentile (Median): 242516.9899684958\n",
      "75th Percentile: 242656.15550467584\n",
      "\n",
      "Summary of S :\n",
      "Mean: 665088.4020341884\n",
      "Minimum: 477815.1226629867\n",
      "Maximum: 999999.0\n",
      "25th Percentile: 499977.76736628567\n",
      "50th Percentile (Median): 500095.5132716603\n",
      "75th Percentile: 985075.6241322337\n",
      "\n",
      "Summary of E :\n",
      "Mean: 84076.92151017989\n",
      "Minimum: 0.7639719400986604\n",
      "Maximum: 136132.56284888647\n",
      "25th Percentile: 6178.7873164030125\n",
      "50th Percentile (Median): 121189.55864011022\n",
      "75th Percentile: 121355.45456383926\n",
      "\n",
      "Summary of I :\n",
      "Mean: 82775.74696118914\n",
      "Minimum: 0.0\n",
      "Maximum: 134277.51320450418\n",
      "25th Percentile: 4390.563515788165\n",
      "50th Percentile (Median): 121241.73487179507\n",
      "75th Percentile: 121382.97578296716\n",
      "\n",
      "Summary of R :\n",
      "Mean: 158892.41181777927\n",
      "Minimum: 0.0\n",
      "Maximum: 252953.34924378793\n",
      "25th Percentile: 4351.876238486426\n",
      "50th Percentile (Median): 242516.9899684958\n",
      "75th Percentile: 242656.15550467584\n",
      "\n",
      "Summary of D :\n",
      "Mean: 516895.7097150814\n",
      "Minimum: 0.0\n",
      "Maximum: 1511540.7948200577\n",
      "25th Percentile: 2145.8796561639247\n",
      "50th Percentile (Median): 405062.3409126048\n",
      "75th Percentile: 958022.6696629305\n",
      "\n"
     ]
    }
   ],
   "source": [
    "# Access the solution arrays\n",
    "M = solution.y[0]\n",
    "S = solution.y[1]\n",
    "E = solution.y[2]\n",
    "I = solution.y[3]\n",
    "R = solution.y[4]\n",
    "D = solution.y[5]\n",
    "\n",
    "# Calculate summary statistics\n",
    "summary_M = np.mean(M), np.min(R), np.max(R), np.percentile(R, [25, 50, 75])\n",
    "summary_S = np.mean(S), np.min(S), np.max(S), np.percentile(S, [25, 50, 75])\n",
    "summary_E = np.mean(E), np.min(E), np.max(E), np.percentile(E, [25, 50, 75])\n",
    "summary_I = np.mean(I), np.min(I), np.max(I), np.percentile(I, [25, 50, 75])\n",
    "summary_R = np.mean(R), np.min(R), np.max(R), np.percentile(R, [25, 50, 75])\n",
    "summary_D = np.mean(D), np.min(D), np.max(D), np.percentile(D, [25, 50, 75])\n",
    "\n",
    "list_summary = [summary_M, summary_S, summary_E, summary_I, summary_R, summary_D]\n",
    "summary_names = ['M', 'S', 'E', 'I', 'R', 'D']\n",
    "\n",
    "for i in range(len(list_summary)):\n",
    "    print(\"Summary of\", summary_names[i], \":\")\n",
    "    print(\"Mean:\", list_summary[i][0])\n",
    "    print(\"Minimum:\", list_summary[i][1])\n",
    "    print(\"Maximum:\", list_summary[i][2])\n",
    "    print(\"25th Percentile:\", list_summary[i][3][0])\n",
    "    print(\"50th Percentile (Median):\", list_summary[i][3][1])\n",
    "    print(\"75th Percentile:\", list_summary[i][3][2])\n",
    "    print()\n"
   ]
  },
  {
   "cell_type": "code",
   "execution_count": 10,
   "id": "6fd09267",
   "metadata": {},
   "outputs": [],
   "source": [
    "# Create a dataframe from the solution arrays\n",
    "df_model = pd.DataFrame({\n",
    "    'Time': times,\n",
    "    \"Maternal Immunity\": solution.y[0],\n",
    "    \"Susceptible\": solution.y[1],\n",
    "    \"Exposed\": solution.y[2],\n",
    "    \"Infectious\": solution.y[3],\n",
    "    \"Recovered\": solution.y[4],\n",
    "    \"Death\": solution.y[5]\n",
    "})\n",
    "\n",
    "# Extract the Death column\n",
    "df_death = df_model['Death']\n",
    "\n",
    "# Obtain the max number of death\n",
    "peak_death = df_death.max()\n",
    "\n",
    "# Obtain the n-day when the number of death is max\n",
    "peak_time_death = df_death.idxmax()"
   ]
  },
  {
   "cell_type": "code",
   "execution_count": 11,
   "id": "e17d46c5",
   "metadata": {},
   "outputs": [
    {
     "data": {
      "image/png": "[encoded data removed]",
      "text/plain": [
       "<Figure size 720x432 with 1 Axes>"
      ]
     },
     "metadata": {
      "needs_background": "light"
     },
     "output_type": "display_data"
    }
   ],
   "source": [
    "# Plotting the MSEIRS + Death model \n",
    "plt.figure(figsize=(10, 6))\n",
    "plt.plot(times, M, label='Maternity immunity')\n",
    "plt.plot(times, S, label='Susceptible')\n",
    "plt.plot(times, E, label='Exposed')\n",
    "plt.plot(times, I, label='Infected')\n",
    "plt.plot(times, R, label='Recovered')\n",
    "plt.plot(times, D, label='Death')\n",
    "plt.xlabel('Day')\n",
    "plt.ylabel('Population')\n",
    "plt.title('MSEIRS Model with Cummulative Death')\n",
    "plt.legend()\n",
    "\n",
    "# Adding horizontal and vertical lines to the maximum death point\n",
    "point_x_d = peak_time_death  \n",
    "point_y_d = peak_death\n",
    "\n",
    "# # Horizontal line\n",
    "# plt.axhline(y=point_y_d, color='y', linestyle='--')  \n",
    "# # Vertical line\n",
    "# plt.axvline(x=point_x_d, color='y', linestyle='--')  \n",
    "\n",
    "# Marking the point\n",
    "plt.scatter(point_x_d, point_y_d, color='b', marker='o')\n",
    "\n",
    "# Adding text annotation for the point coordinates\n",
    "plt.text(point_x_d + 2, point_y_d + 10000, f'({point_x_d}, {round(point_y_d)})', color='black')\n",
    "\n",
    "plt.grid(True)\n",
    "plt.show()"
   ]
  }
 ],
 "metadata": {
  "kernelspec": {
   "display_name": "Python 3 (ipykernel)",
   "language": "python",
   "name": "python3"
  },
  "language_info": {
   "codemirror_mode": {
    "name": "ipython",
    "version": 3
   },
   "file_extension": ".py",
   "mimetype": "text/x-python",
   "name": "python",
   "nbconvert_exporter": "python",
   "pygments_lexer": "ipython3",
   "version": "3.9.7"
  }
 },
 "nbformat": 4,
 "nbformat_minor": 5
}
